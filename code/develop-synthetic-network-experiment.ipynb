{
 "cells": [
  {
   "cell_type": "code",
   "execution_count": null,
   "id": "4b9810a0",
   "metadata": {},
   "outputs": [],
   "source": [
    "# 2023/5/17\n",
    "#\n",
    "# Use simple algorithm to create landscapes with known number of attractors\n",
    "# and complex (unknown) dynamical rules.\n",
    "\n",
    "# We are limited to small networks here unless we try to do fancier sampling of states.\n",
    "#"
   ]
  },
  {
   "cell_type": "markdown",
   "id": "4c553612",
   "metadata": {},
   "source": [
    "# Create network from list of transitions"
   ]
  },
  {
   "cell_type": "code",
   "execution_count": 1,
   "id": "19706e0d",
   "metadata": {},
   "outputs": [],
   "source": [
    "import AttAttach.attattach as ata"
   ]
  },
  {
   "cell_type": "code",
   "execution_count": 2,
   "id": "162b4694",
   "metadata": {},
   "outputs": [],
   "source": [
    "import numpy as np"
   ]
  },
  {
   "cell_type": "code",
   "execution_count": null,
   "id": "f2785a52",
   "metadata": {},
   "outputs": [],
   "source": []
  },
  {
   "cell_type": "code",
   "execution_count": 4,
   "id": "c356a124",
   "metadata": {},
   "outputs": [],
   "source": [
    "num_nodes = 12 #7\n",
    "num_attractors = 10\n",
    "#landscape_structure = [[1,0.1],[1,.25],[1,.25],[1,.10],[1,.10],[1,.10],[1,.10]]\n",
    "landscape_structure = [[1,0.1] for i in range(num_attractors)]\n",
    "edges = ata.generate_landscape(num_nodes,landscape_structure)"
   ]
  },
  {
   "cell_type": "code",
   "execution_count": 5,
   "id": "5a8d22b8",
   "metadata": {},
   "outputs": [
    {
     "data": {
      "text/plain": [
       "4096"
      ]
     },
     "execution_count": 5,
     "metadata": {},
     "output_type": "execute_result"
    }
   ],
   "source": [
    "len(edges)"
   ]
  },
  {
   "cell_type": "code",
   "execution_count": 6,
   "id": "04e3572a",
   "metadata": {},
   "outputs": [],
   "source": [
    "transitions = [ e[1] for e in edges ]"
   ]
  },
  {
   "cell_type": "code",
   "execution_count": 7,
   "id": "32b33d52",
   "metadata": {},
   "outputs": [
    {
     "data": {
      "text/plain": [
       "4096"
      ]
     },
     "execution_count": 7,
     "metadata": {},
     "output_type": "execute_result"
    }
   ],
   "source": [
    "len(transitions)"
   ]
  },
  {
   "cell_type": "code",
   "execution_count": 8,
   "id": "352e5372",
   "metadata": {},
   "outputs": [],
   "source": [
    "from TransitionNetwork import transitions_to_net"
   ]
  },
  {
   "cell_type": "code",
   "execution_count": 9,
   "id": "92641ee1",
   "metadata": {},
   "outputs": [],
   "source": [
    "net = transitions_to_net(transitions)"
   ]
  },
  {
   "cell_type": "markdown",
   "id": "79744427",
   "metadata": {},
   "source": [
    "# Find control kernels"
   ]
  },
  {
   "cell_type": "code",
   "execution_count": 10,
   "id": "edc27864",
   "metadata": {},
   "outputs": [],
   "source": [
    "from control_kernel_analysis import ck_analysis"
   ]
  },
  {
   "cell_type": "code",
   "execution_count": 11,
   "id": "3ebd177b",
   "metadata": {},
   "outputs": [
    {
     "name": "stdout",
     "output_type": "stream",
     "text": [
      "Finding attractors and control kernels...\n"
     ]
    },
    {
     "name": "stderr",
     "output_type": "stream",
     "text": [
      "/Users/bdaniel6/packages/Neet/neet/landscape.py:1118: VisibleDeprecationWarning: Creating an ndarray from ragged nested sequences (which is a list-or-tuple of lists-or-tuples-or ndarrays with different lengths or shapes) is deprecated. If you meant to do this, you must specify 'dtype=object' when creating the ndarray.\n",
      "  data.attractors = np.asarray(attractor_paths)\n"
     ]
    }
   ],
   "source": [
    "ck_data = ck_analysis(net)"
   ]
  },
  {
   "cell_type": "code",
   "execution_count": 12,
   "id": "3da5dca2",
   "metadata": {},
   "outputs": [
    {
     "data": {
      "text/plain": [
       "array([[2222],\n",
       "       [1907],\n",
       "       [2852],\n",
       "       [ 659],\n",
       "       [2655],\n",
       "       [1146],\n",
       "       [3911],\n",
       "       [3740],\n",
       "       [ 861],\n",
       "       [3826]])"
      ]
     },
     "execution_count": 12,
     "metadata": {},
     "output_type": "execute_result"
    }
   ],
   "source": [
    "ck_data['attractors']"
   ]
  },
  {
   "cell_type": "code",
   "execution_count": 14,
   "id": "a819b436",
   "metadata": {},
   "outputs": [
    {
     "data": {
      "text/plain": [
       "2.9"
      ]
     },
     "execution_count": 14,
     "metadata": {},
     "output_type": "execute_result"
    }
   ],
   "source": [
    "np.mean(ck_data['control_kernel_sizes'])"
   ]
  },
  {
   "cell_type": "code",
   "execution_count": null,
   "id": "1047d37b",
   "metadata": {},
   "outputs": [],
   "source": []
  }
 ],
 "metadata": {
  "kernelspec": {
   "display_name": "Python 3 (ipykernel)",
   "language": "python",
   "name": "python3"
  },
  "language_info": {
   "codemirror_mode": {
    "name": "ipython",
    "version": 3
   },
   "file_extension": ".py",
   "mimetype": "text/x-python",
   "name": "python",
   "nbconvert_exporter": "python",
   "pygments_lexer": "ipython3",
   "version": "3.9.16"
  }
 },
 "nbformat": 4,
 "nbformat_minor": 5
}
