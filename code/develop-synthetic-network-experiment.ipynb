{
 "cells": [
  {
   "cell_type": "code",
   "execution_count": null,
   "id": "4b9810a0",
   "metadata": {},
   "outputs": [],
   "source": [
    "# 2023/5/17\n",
    "#\n",
    "# Use simple algorithm to create landscapes with known number of attractors\n",
    "# and complex (unknown) dynamical rules.\n",
    "\n",
    "# We are limited to small networks here unless we try to do fancier sampling of states.\n",
    "#"
   ]
  },
  {
   "cell_type": "markdown",
   "id": "ea4e5cbc",
   "metadata": {},
   "source": [
    "# Create network from list of transitions"
   ]
  },
  {
   "cell_type": "code",
   "execution_count": 1,
   "id": "19706e0d",
   "metadata": {},
   "outputs": [],
   "source": [
    "import AttAttach.attattach as ata"
   ]
  },
  {
   "cell_type": "code",
   "execution_count": 7,
   "id": "ee7ce113",
   "metadata": {},
   "outputs": [],
   "source": [
    "import numpy as np\n",
    "import matplotlib.pyplot as plt"
   ]
  },
  {
   "cell_type": "code",
   "execution_count": null,
   "id": "15708b3a",
   "metadata": {},
   "outputs": [],
   "source": []
  },
  {
   "cell_type": "code",
   "execution_count": 16,
   "id": "f3d88e9a",
   "metadata": {},
   "outputs": [],
   "source": [
    "num_nodes = 12 #7\n",
    "num_attractors = 20\n",
    "#landscape_structure = [[1,0.1],[1,.25],[1,.25],[1,.10],[1,.10],[1,.10],[1,.10]]\n",
    "landscape_structure = [[1,1./num_attractors] for i in range(num_attractors)]\n",
    "edges = ata.generate_landscape(num_nodes,landscape_structure)"
   ]
  },
  {
   "cell_type": "code",
   "execution_count": 17,
   "id": "81858fcb",
   "metadata": {},
   "outputs": [
    {
     "data": {
      "text/plain": [
       "4096"
      ]
     },
     "execution_count": 17,
     "metadata": {},
     "output_type": "execute_result"
    }
   ],
   "source": [
    "len(edges)"
   ]
  },
  {
   "cell_type": "code",
   "execution_count": 18,
   "id": "40fc2626",
   "metadata": {},
   "outputs": [],
   "source": [
    "transitions = [ e[1] for e in edges ]"
   ]
  },
  {
   "cell_type": "code",
   "execution_count": 19,
   "id": "7fb3212c",
   "metadata": {},
   "outputs": [
    {
     "data": {
      "text/plain": [
       "4096"
      ]
     },
     "execution_count": 19,
     "metadata": {},
     "output_type": "execute_result"
    }
   ],
   "source": [
    "len(transitions)"
   ]
  },
  {
   "cell_type": "code",
   "execution_count": 20,
   "id": "b6ef5803",
   "metadata": {},
   "outputs": [],
   "source": [
    "from TransitionNetwork import transitions_to_net"
   ]
  },
  {
   "cell_type": "code",
   "execution_count": 21,
   "id": "0058a646",
   "metadata": {},
   "outputs": [],
   "source": [
    "net = transitions_to_net(transitions)"
   ]
  },
  {
   "cell_type": "markdown",
   "id": "7e96469b",
   "metadata": {},
   "source": [
    "# Find control kernels"
   ]
  },
  {
   "cell_type": "code",
   "execution_count": 22,
   "id": "7234621f",
   "metadata": {},
   "outputs": [],
   "source": [
    "from control_kernel_analysis import ck_analysis"
   ]
  },
  {
   "cell_type": "code",
   "execution_count": 23,
   "id": "7e4830a3",
   "metadata": {},
   "outputs": [
    {
     "name": "stdout",
     "output_type": "stream",
     "text": [
      "Finding attractors and control kernels...\n"
     ]
    },
    {
     "name": "stderr",
     "output_type": "stream",
     "text": [
      "/Users/bdaniel6/packages/Neet/neet/landscape.py:1118: VisibleDeprecationWarning: Creating an ndarray from ragged nested sequences (which is a list-or-tuple of lists-or-tuples-or ndarrays with different lengths or shapes) is deprecated. If you meant to do this, you must specify 'dtype=object' when creating the ndarray.\n",
      "  data.attractors = np.asarray(attractor_paths)\n"
     ]
    }
   ],
   "source": [
    "ck_data = ck_analysis(net)"
   ]
  },
  {
   "cell_type": "code",
   "execution_count": 24,
   "id": "bd85f848",
   "metadata": {},
   "outputs": [
    {
     "data": {
      "text/plain": [
       "array([[ 158],\n",
       "       [ 284],\n",
       "       [ 411],\n",
       "       [4024],\n",
       "       [3449],\n",
       "       [  42],\n",
       "       [2161],\n",
       "       [3300],\n",
       "       [2373],\n",
       "       [3917],\n",
       "       [1058],\n",
       "       [2857],\n",
       "       [2062],\n",
       "       [1194],\n",
       "       [2644],\n",
       "       [1537],\n",
       "       [3765],\n",
       "       [1934],\n",
       "       [2112],\n",
       "       [3882]])"
      ]
     },
     "execution_count": 24,
     "metadata": {},
     "output_type": "execute_result"
    }
   ],
   "source": [
    "ck_data['attractors']"
   ]
  },
  {
   "cell_type": "code",
   "execution_count": 25,
   "id": "88cc62c0",
   "metadata": {},
   "outputs": [
    {
     "data": {
      "text/plain": [
       "3.7"
      ]
     },
     "execution_count": 25,
     "metadata": {},
     "output_type": "execute_result"
    }
   ],
   "source": [
    "np.mean(ck_data['control_kernel_sizes'])"
   ]
  },
  {
   "cell_type": "code",
   "execution_count": 26,
   "id": "d59070d9",
   "metadata": {},
   "outputs": [
    {
     "data": {
      "text/plain": [
       "4.321928094887363"
      ]
     },
     "execution_count": 26,
     "metadata": {},
     "output_type": "execute_result"
    }
   ],
   "source": [
    "np.log2(20)"
   ]
  },
  {
   "cell_type": "markdown",
   "id": "1f90c8b2",
   "metadata": {},
   "source": [
    "# What happens if all basins but one have size one?"
   ]
  },
  {
   "cell_type": "markdown",
   "id": "9a483087",
   "metadata": {},
   "source": [
    "2023/5/30 BCD"
   ]
  },
  {
   "cell_type": "code",
   "execution_count": 8,
   "id": "2557e590",
   "metadata": {},
   "outputs": [],
   "source": [
    "from control_kernel_analysis import ck_analysis\n",
    "from TransitionNetwork import transitions_to_net"
   ]
  },
  {
   "cell_type": "code",
   "execution_count": 12,
   "id": "0863f178",
   "metadata": {},
   "outputs": [],
   "source": [
    "num_nodes = 12\n",
    "num_attractors = 20\n",
    "s = 2**num_nodes\n",
    "landscape_structure = [[1,1./s] for i in range(num_attractors-1)] + [[1,(s-num_attractors+1)/s]]\n",
    "edges = ata.generate_landscape(num_nodes,landscape_structure)\n",
    "transitions = [ e[1] for e in edges ]\n",
    "net = transitions_to_net(transitions)"
   ]
  },
  {
   "cell_type": "code",
   "execution_count": 13,
   "id": "013c17d1",
   "metadata": {},
   "outputs": [
    {
     "name": "stdout",
     "output_type": "stream",
     "text": [
      "Finding attractors and control kernels...\n"
     ]
    }
   ],
   "source": [
    "ck_data = ck_analysis(net)"
   ]
  },
  {
   "cell_type": "code",
   "execution_count": 15,
   "id": "c98ba702",
   "metadata": {},
   "outputs": [
    {
     "data": {
      "text/plain": [
       "[3, 5, 5, 5, 5, 5, 5, 4, 5, 5, 4, 5, 5, 5, 5, 5, 5, 4, 5, 6]"
      ]
     },
     "execution_count": 15,
     "metadata": {},
     "output_type": "execute_result"
    }
   ],
   "source": [
    "ck_data['control_kernel_sizes']"
   ]
  },
  {
   "cell_type": "code",
   "execution_count": 14,
   "id": "5f986ea5",
   "metadata": {},
   "outputs": [
    {
     "data": {
      "text/plain": [
       "4.8"
      ]
     },
     "execution_count": 14,
     "metadata": {},
     "output_type": "execute_result"
    }
   ],
   "source": [
    "np.mean(ck_data['control_kernel_sizes'])"
   ]
  },
  {
   "cell_type": "code",
   "execution_count": 17,
   "id": "9269bcf3",
   "metadata": {},
   "outputs": [
    {
     "data": {
      "text/plain": [
       "4.321928094887363"
      ]
     },
     "execution_count": 17,
     "metadata": {},
     "output_type": "execute_result"
    }
   ],
   "source": [
    "np.log2(num_attractors)"
   ]
  },
  {
   "cell_type": "markdown",
   "id": "0d410b61",
   "metadata": {},
   "source": [
    "# 2023/6/14 Sampling over basin entropy"
   ]
  },
  {
   "cell_type": "code",
   "execution_count": 11,
   "id": "84f77d53",
   "metadata": {},
   "outputs": [],
   "source": [
    "from entropy_and_basin_sizes import entropy_to_basin_sizes,min_basin_entropy,max_basin_entropy,basin_entropy"
   ]
  },
  {
   "cell_type": "code",
   "execution_count": 49,
   "id": "3e46c2e5",
   "metadata": {},
   "outputs": [
    {
     "name": "stdout",
     "output_type": "stream",
     "text": [
      "Entropy range: 0.3310675539007212 to 3.321928094887362\n"
     ]
    }
   ],
   "source": [
    "n = 8 #10\n",
    "r = 10 #5\n",
    "num_entropies = 100\n",
    "print(\"Entropy range: {} to {}\".format(min_basin_entropy(r,n),max_basin_entropy(r)))\n",
    "h_tildes = np.linspace(min_basin_entropy(r,n),max_basin_entropy(r),num_entropies)\n",
    "w_list = [ entropy_to_basin_sizes(h_tilde,r,n,tol=1e-2) for h_tilde in h_tildes ]\n",
    "entropies = [ basin_entropy(w/2**n) for w in w_list ]"
   ]
  },
  {
   "cell_type": "code",
   "execution_count": 50,
   "id": "1eccf12c",
   "metadata": {},
   "outputs": [
    {
     "data": {
      "text/plain": [
       "[<matplotlib.lines.Line2D at 0x7fa0f2f8a790>]"
      ]
     },
     "execution_count": 50,
     "metadata": {},
     "output_type": "execute_result"
    },
    {
     "data": {
      "image/png": "[encoded data removed]",
      "text/plain": [
       "<Figure size 640x480 with 1 Axes>"
      ]
     },
     "metadata": {},
     "output_type": "display_data"
    }
   ],
   "source": [
    "plt.plot(h_tildes,entropies)"
   ]
  },
  {
   "cell_type": "code",
   "execution_count": 51,
   "id": "9c1d29e7",
   "metadata": {},
   "outputs": [
    {
     "data": {
      "text/plain": [
       "[<matplotlib.lines.Line2D at 0x7fa0f2dc28e0>]"
      ]
     },
     "execution_count": 51,
     "metadata": {},
     "output_type": "execute_result"
    },
    {
     "data": {
      "image/png": "[encoded data removed]",
      "text/plain": [
       "<Figure size 640x480 with 1 Axes>"
      ]
     },
     "metadata": {},
     "output_type": "display_data"
    }
   ],
   "source": [
    "plt.plot(entropies-h_tildes)"
   ]
  },
  {
   "cell_type": "code",
   "execution_count": 52,
   "id": "8783537e",
   "metadata": {},
   "outputs": [],
   "source": [
    "from control_kernel_analysis import ck_analysis\n",
    "from TransitionNetwork import transitions_to_net"
   ]
  },
  {
   "cell_type": "code",
   "execution_count": 53,
   "id": "06ce37e6",
   "metadata": {},
   "outputs": [
    {
     "name": "stdout",
     "output_type": "stream",
     "text": [
      "Finding control kernels for network 0 of 100\n",
      "Finding attractors and control kernels...\n",
      "Finding control kernels for network 1 of 100\n",
      "Finding attractors and control kernels...\n"
     ]
    },
    {
     "name": "stderr",
     "output_type": "stream",
     "text": [
      "/Users/bdaniel6/packages/Neet/neet/landscape.py:1118: VisibleDeprecationWarning: Creating an ndarray from ragged nested sequences (which is a list-or-tuple of lists-or-tuples-or ndarrays with different lengths or shapes) is deprecated. If you meant to do this, you must specify 'dtype=object' when creating the ndarray.\n",
      "  data.attractors = np.asarray(attractor_paths)\n"
     ]
    },
    {
     "name": "stdout",
     "output_type": "stream",
     "text": [
      "Finding control kernels for network 2 of 100\n",
      "Finding attractors and control kernels...\n",
      "Finding control kernels for network 3 of 100\n",
      "Finding attractors and control kernels...\n",
      "Finding control kernels for network 4 of 100\n",
      "Finding attractors and control kernels...\n",
      "Finding control kernels for network 5 of 100\n",
      "Finding attractors and control kernels...\n",
      "Finding control kernels for network 6 of 100\n",
      "Finding attractors and control kernels...\n",
      "Finding control kernels for network 7 of 100\n",
      "Finding attractors and control kernels...\n",
      "Finding control kernels for network 8 of 100\n",
      "Finding attractors and control kernels...\n",
      "Finding control kernels for network 9 of 100\n",
      "Finding attractors and control kernels...\n",
      "Finding control kernels for network 10 of 100\n",
      "Finding attractors and control kernels...\n",
      "Finding control kernels for network 11 of 100\n",
      "Finding attractors and control kernels...\n",
      "Finding control kernels for network 12 of 100\n",
      "Finding attractors and control kernels...\n",
      "Finding control kernels for network 13 of 100\n",
      "Finding attractors and control kernels...\n",
      "Finding control kernels for network 14 of 100\n",
      "Finding attractors and control kernels...\n",
      "Finding control kernels for network 15 of 100\n",
      "Finding attractors and control kernels...\n",
      "Finding control kernels for network 16 of 100\n",
      "Finding attractors and control kernels...\n",
      "Finding control kernels for network 17 of 100\n",
      "Finding attractors and control kernels...\n",
      "Finding control kernels for network 18 of 100\n",
      "Finding attractors and control kernels...\n",
      "Finding control kernels for network 19 of 100\n",
      "Finding attractors and control kernels...\n",
      "Finding control kernels for network 20 of 100\n",
      "Finding attractors and control kernels...\n",
      "Finding control kernels for network 21 of 100\n",
      "Finding attractors and control kernels...\n",
      "Finding control kernels for network 22 of 100\n",
      "Finding attractors and control kernels...\n",
      "Finding control kernels for network 23 of 100\n",
      "Finding attractors and control kernels...\n",
      "Finding control kernels for network 24 of 100\n",
      "Finding attractors and control kernels...\n",
      "Finding control kernels for network 25 of 100\n",
      "Finding attractors and control kernels...\n",
      "Finding control kernels for network 26 of 100\n",
      "Finding attractors and control kernels...\n",
      "Finding control kernels for network 27 of 100\n",
      "Finding attractors and control kernels...\n",
      "Finding control kernels for network 28 of 100\n",
      "Finding attractors and control kernels...\n",
      "Finding control kernels for network 29 of 100\n",
      "Finding attractors and control kernels...\n",
      "Finding control kernels for network 30 of 100\n",
      "Finding attractors and control kernels...\n",
      "Finding control kernels for network 31 of 100\n",
      "Finding attractors and control kernels...\n",
      "Finding control kernels for network 32 of 100\n",
      "Finding attractors and control kernels...\n",
      "Finding control kernels for network 33 of 100\n",
      "Finding attractors and control kernels...\n",
      "Finding control kernels for network 34 of 100\n",
      "Finding attractors and control kernels...\n",
      "Finding control kernels for network 35 of 100\n",
      "Finding attractors and control kernels...\n",
      "Finding control kernels for network 36 of 100\n",
      "Finding attractors and control kernels...\n",
      "Finding control kernels for network 37 of 100\n",
      "Finding attractors and control kernels...\n",
      "Finding control kernels for network 38 of 100\n",
      "Finding attractors and control kernels...\n",
      "Finding control kernels for network 39 of 100\n",
      "Finding attractors and control kernels...\n",
      "Finding control kernels for network 40 of 100\n",
      "Finding attractors and control kernels...\n",
      "Finding control kernels for network 41 of 100\n",
      "Finding attractors and control kernels...\n",
      "Finding control kernels for network 42 of 100\n",
      "Finding attractors and control kernels...\n",
      "Finding control kernels for network 43 of 100\n",
      "Finding attractors and control kernels...\n",
      "Finding control kernels for network 44 of 100\n",
      "Finding attractors and control kernels...\n",
      "Finding control kernels for network 45 of 100\n",
      "Finding attractors and control kernels...\n",
      "Finding control kernels for network 46 of 100\n",
      "Finding attractors and control kernels...\n",
      "Finding control kernels for network 47 of 100\n",
      "Finding attractors and control kernels...\n",
      "Finding control kernels for network 48 of 100\n",
      "Finding attractors and control kernels...\n",
      "Finding control kernels for network 49 of 100\n",
      "Finding attractors and control kernels...\n",
      "Finding control kernels for network 50 of 100\n",
      "Finding attractors and control kernels...\n",
      "Finding control kernels for network 51 of 100\n",
      "Finding attractors and control kernels...\n",
      "Finding control kernels for network 52 of 100\n",
      "Finding attractors and control kernels...\n",
      "Finding control kernels for network 53 of 100\n",
      "Finding attractors and control kernels...\n",
      "Finding control kernels for network 54 of 100\n",
      "Finding attractors and control kernels...\n",
      "Finding control kernels for network 55 of 100\n",
      "Finding attractors and control kernels...\n",
      "Finding control kernels for network 56 of 100\n",
      "Finding attractors and control kernels...\n",
      "Finding control kernels for network 57 of 100\n",
      "Finding attractors and control kernels...\n",
      "Finding control kernels for network 58 of 100\n",
      "Finding attractors and control kernels...\n",
      "Finding control kernels for network 59 of 100\n",
      "Finding attractors and control kernels...\n",
      "Finding control kernels for network 60 of 100\n",
      "Finding attractors and control kernels...\n",
      "Finding control kernels for network 61 of 100\n",
      "Finding attractors and control kernels...\n",
      "Finding control kernels for network 62 of 100\n",
      "Finding attractors and control kernels...\n",
      "Finding control kernels for network 63 of 100\n",
      "Finding attractors and control kernels...\n",
      "Finding control kernels for network 64 of 100\n",
      "Finding attractors and control kernels...\n",
      "Finding control kernels for network 65 of 100\n",
      "Finding attractors and control kernels...\n",
      "Finding control kernels for network 66 of 100\n",
      "Finding attractors and control kernels...\n",
      "Finding control kernels for network 67 of 100\n",
      "Finding attractors and control kernels...\n",
      "Finding control kernels for network 68 of 100\n",
      "Finding attractors and control kernels...\n",
      "Finding control kernels for network 69 of 100\n",
      "Finding attractors and control kernels...\n",
      "Finding control kernels for network 70 of 100\n",
      "Finding attractors and control kernels...\n",
      "Finding control kernels for network 71 of 100\n",
      "Finding attractors and control kernels...\n",
      "Finding control kernels for network 72 of 100\n",
      "Finding attractors and control kernels...\n",
      "Finding control kernels for network 73 of 100\n",
      "Finding attractors and control kernels...\n",
      "Finding control kernels for network 74 of 100\n",
      "Finding attractors and control kernels...\n",
      "Finding control kernels for network 75 of 100\n",
      "Finding attractors and control kernels...\n",
      "Finding control kernels for network 76 of 100\n",
      "Finding attractors and control kernels...\n",
      "Finding control kernels for network 77 of 100\n",
      "Finding attractors and control kernels...\n",
      "Finding control kernels for network 78 of 100\n",
      "Finding attractors and control kernels...\n",
      "Finding control kernels for network 79 of 100\n",
      "Finding attractors and control kernels...\n",
      "Finding control kernels for network 80 of 100\n",
      "Finding attractors and control kernels...\n",
      "Finding control kernels for network 81 of 100\n",
      "Finding attractors and control kernels...\n",
      "Finding control kernels for network 82 of 100\n",
      "Finding attractors and control kernels...\n",
      "Finding control kernels for network 83 of 100\n",
      "Finding attractors and control kernels...\n",
      "Finding control kernels for network 84 of 100\n",
      "Finding attractors and control kernels...\n",
      "Finding control kernels for network 85 of 100\n",
      "Finding attractors and control kernels...\n",
      "Finding control kernels for network 86 of 100\n",
      "Finding attractors and control kernels...\n",
      "Finding control kernels for network 87 of 100\n",
      "Finding attractors and control kernels...\n",
      "Finding control kernels for network 88 of 100\n",
      "Finding attractors and control kernels...\n",
      "Finding control kernels for network 89 of 100\n",
      "Finding attractors and control kernels...\n",
      "Finding control kernels for network 90 of 100\n",
      "Finding attractors and control kernels...\n",
      "Finding control kernels for network 91 of 100\n",
      "Finding attractors and control kernels...\n",
      "Finding control kernels for network 92 of 100\n",
      "Finding attractors and control kernels...\n",
      "Finding control kernels for network 93 of 100\n",
      "Finding attractors and control kernels...\n",
      "Finding control kernels for network 94 of 100\n",
      "Finding attractors and control kernels...\n",
      "Finding control kernels for network 95 of 100\n",
      "Finding attractors and control kernels...\n",
      "Finding control kernels for network 96 of 100\n",
      "Finding attractors and control kernels...\n",
      "Finding control kernels for network 97 of 100\n",
      "Finding attractors and control kernels...\n"
     ]
    },
    {
     "name": "stdout",
     "output_type": "stream",
     "text": [
      "Finding control kernels for network 98 of 100\n",
      "Finding attractors and control kernels...\n",
      "Finding control kernels for network 99 of 100\n",
      "Finding attractors and control kernels...\n"
     ]
    }
   ],
   "source": [
    "ck_mean_sizes = []\n",
    "for i,w in enumerate(w_list):\n",
    "    print(\"Finding control kernels for network {} of {}\".format(i,len(w_list)))\n",
    "    landscape_structure = [ [1,wi/2**n] for wi in w ]\n",
    "    edges = ata.generate_landscape(n,landscape_structure)\n",
    "    transitions = [ e[1] for e in edges ]\n",
    "    net = transitions_to_net(transitions)\n",
    "    ck_data = ck_analysis(net)\n",
    "    ck_mean_sizes.append(np.mean(ck_data['control_kernel_sizes']))"
   ]
  },
  {
   "cell_type": "code",
   "execution_count": 41,
   "id": "034f040a",
   "metadata": {},
   "outputs": [
    {
     "data": {
      "text/plain": [
       "<matplotlib.collections.LineCollection at 0x7fa0f2c71f10>"
      ]
     },
     "execution_count": 41,
     "metadata": {},
     "output_type": "execute_result"
    },
    {
     "data": {
      "image/png": "[encoded data removed]",
      "text/plain": [
       "<Figure size 640x480 with 1 Axes>"
      ]
     },
     "metadata": {},
     "output_type": "display_data"
    }
   ],
   "source": [
    "# n = 8, r = 5\n",
    "plt.plot(entropies,ck_mean_sizes,'o')\n",
    "plt.xlabel('Basin entropy (bits)')\n",
    "plt.ylabel('Mean control kernel size')\n",
    "plt.hlines([np.log2(r)],xmin=min(entropies),xmax=max(entropies))"
   ]
  },
  {
   "cell_type": "code",
   "execution_count": null,
   "id": "5f05a9a8",
   "metadata": {},
   "outputs": [],
   "source": [
    "# n = 10, r = 5\n",
    "plt.plot(entropies,ck_mean_sizes,'o')\n",
    "plt.xlabel('Basin entropy (bits)')\n",
    "plt.ylabel('Mean control kernel size')\n",
    "plt.hlines([np.log2(r)],xmin=min(entropies),xmax=max(entropies))"
   ]
  },
  {
   "cell_type": "code",
   "execution_count": 55,
   "id": "9926a715",
   "metadata": {},
   "outputs": [
    {
     "data": {
      "text/plain": [
       "<matplotlib.collections.LineCollection at 0x7fa0e4431670>"
      ]
     },
     "execution_count": 55,
     "metadata": {},
     "output_type": "execute_result"
    },
    {
     "data": {
      "image/png": "[encoded data removed]",
      "text/plain": [
       "<Figure size 640x480 with 1 Axes>"
      ]
     },
     "metadata": {},
     "output_type": "display_data"
    }
   ],
   "source": [
    "# n = 8, r = 10\n",
    "plt.plot(entropies,ck_mean_sizes,'o')\n",
    "plt.xlabel('Basin entropy (bits)')\n",
    "plt.ylabel('Mean control kernel size')\n",
    "plt.hlines([np.log2(r)],xmin=min(entropies),xmax=max(entropies))"
   ]
  },
  {
   "cell_type": "code",
   "execution_count": 58,
   "id": "4033f7b7",
   "metadata": {},
   "outputs": [
    {
     "name": "stdout",
     "output_type": "stream",
     "text": [
      "[  1   1   1   1   1   1   1   1   1 247]\n",
      "[  1   1   1   1   1   1   1   1   2 246]\n",
      "[  1   1   1   1   1   1   1   1   3 245]\n",
      "[  1   1   1   1   1   1   1   1   3 245]\n",
      "[  1   1   1   1   1   1   1   1   4 244]\n"
     ]
    }
   ],
   "source": [
    "for w in w_list[:5]:\n",
    "    print(w)"
   ]
  },
  {
   "cell_type": "code",
   "execution_count": 60,
   "id": "e59c807f",
   "metadata": {},
   "outputs": [
    {
     "data": {
      "text/plain": [
       "Text(0, 0.5, 'Mean control kernel size')"
      ]
     },
     "execution_count": 60,
     "metadata": {},
     "output_type": "execute_result"
    },
    {
     "data": {
      "image/png": "[encoded data removed]",
      "text/plain": [
       "<Figure size 640x480 with 1 Axes>"
      ]
     },
     "metadata": {},
     "output_type": "display_data"
    }
   ],
   "source": [
    "plt.plot(entropies[:5],ck_mean_sizes[:5],'o')\n",
    "plt.xlabel('Basin entropy (bits)')\n",
    "plt.ylabel('Mean control kernel size')\n",
    "#plt.hlines([np.log2(r)],xmin=min(entropies),xmax=max(entropies))"
   ]
  },
  {
   "cell_type": "markdown",
   "id": "0b78e719",
   "metadata": {},
   "source": [
    "Note: For each value of the entropy, there are many possible basin size distributions.  They are the solution of a system of two equations in r unknowns (so potentially an r-2 dimensional space of solutions, at least in the continuous extension of the problem).  In this plot, we are showing one possible solution for each value of the basin entropy, as provided by the scipy optimization in `entropy_to_relative_basin_sizes`.  The scattering of the control kernel sizes in this plot across $h$ might be representative of the scattering over all possible basin size distributions for a given fixed $h$."
   ]
  },
  {
   "cell_type": "markdown",
   "id": "0f119e31",
   "metadata": {},
   "source": [
    "Open questions:\n",
    "    \n",
    "1) For fixed $h$, what is the CK size distribution? Is the variance roughly constant for varying $h$?\n",
    "2) The scaling of |CK| with $h$ looks roughly linear for these samples.  Is this more general?  Can we express the slope as some function of $r$ and $n$?\n",
    "3) Is |CK| larger than $\\log_2(r)$ because of the random correspondance between states and their mapping onto states of nodes?\n",
    "🧐\n",
    "4) Where do the extreme biased cases show up on this plot?"
   ]
  },
  {
   "cell_type": "code",
   "execution_count": null,
   "id": "c7f183f9",
   "metadata": {},
   "outputs": [],
   "source": []
  },
  {
   "cell_type": "code",
   "execution_count": null,
   "id": "0665bdd4",
   "metadata": {},
   "outputs": [],
   "source": []
  }
 ],
 "metadata": {
  "kernelspec": {
   "display_name": "Python 3 (ipykernel)",
   "language": "python",
   "name": "python3"
  },
  "language_info": {
   "codemirror_mode": {
    "name": "ipython",
    "version": 3
   },
   "file_extension": ".py",
   "mimetype": "text/x-python",
   "name": "python",
   "nbconvert_exporter": "python",
   "pygments_lexer": "ipython3",
   "version": "3.9.16"
  }
 },
 "nbformat": 4,
 "nbformat_minor": 5
}
