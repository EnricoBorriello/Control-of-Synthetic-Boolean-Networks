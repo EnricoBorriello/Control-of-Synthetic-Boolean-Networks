{
 "cells": [
  {
   "cell_type": "code",
   "execution_count": null,
   "id": "4b9810a0",
   "metadata": {},
   "outputs": [],
   "source": [
    "# 2023/5/17\n",
    "#\n",
    "# Use simple algorithm to create landscapes with known number of attractors\n",
    "# and complex (unknown) dynamical rules.\n",
    "\n",
    "# We are limited to small networks here unless we try to do fancier sampling of states.\n",
    "#"
   ]
  },
  {
   "cell_type": "markdown",
   "id": "ea4e5cbc",
   "metadata": {},
   "source": [
    "# Create network from list of transitions"
   ]
  },
  {
   "cell_type": "code",
   "execution_count": 1,
   "id": "19706e0d",
   "metadata": {},
   "outputs": [],
   "source": [
    "import AttAttach.attattach as ata"
   ]
  },
  {
   "cell_type": "code",
   "execution_count": 2,
   "id": "ee7ce113",
   "metadata": {},
   "outputs": [],
   "source": [
    "import numpy as np"
   ]
  },
  {
   "cell_type": "code",
   "execution_count": null,
   "id": "15708b3a",
   "metadata": {},
   "outputs": [],
   "source": []
  },
  {
   "cell_type": "code",
   "execution_count": 16,
   "id": "f3d88e9a",
   "metadata": {},
   "outputs": [],
   "source": [
    "num_nodes = 12 #7\n",
    "num_attractors = 20\n",
    "#landscape_structure = [[1,0.1],[1,.25],[1,.25],[1,.10],[1,.10],[1,.10],[1,.10]]\n",
    "landscape_structure = [[1,1./num_attractors] for i in range(num_attractors)]\n",
    "edges = ata.generate_landscape(num_nodes,landscape_structure)"
   ]
  },
  {
   "cell_type": "code",
   "execution_count": 17,
   "id": "81858fcb",
   "metadata": {},
   "outputs": [
    {
     "data": {
      "text/plain": [
       "4096"
      ]
     },
     "execution_count": 17,
     "metadata": {},
     "output_type": "execute_result"
    }
   ],
   "source": [
    "len(edges)"
   ]
  },
  {
   "cell_type": "code",
   "execution_count": 18,
   "id": "40fc2626",
   "metadata": {},
   "outputs": [],
   "source": [
    "transitions = [ e[1] for e in edges ]"
   ]
  },
  {
   "cell_type": "code",
   "execution_count": 19,
   "id": "7fb3212c",
   "metadata": {},
   "outputs": [
    {
     "data": {
      "text/plain": [
       "4096"
      ]
     },
     "execution_count": 19,
     "metadata": {},
     "output_type": "execute_result"
    }
   ],
   "source": [
    "len(transitions)"
   ]
  },
  {
   "cell_type": "code",
   "execution_count": 20,
   "id": "b6ef5803",
   "metadata": {},
   "outputs": [],
   "source": [
    "from TransitionNetwork import transitions_to_net"
   ]
  },
  {
   "cell_type": "code",
   "execution_count": 21,
   "id": "0058a646",
   "metadata": {},
   "outputs": [],
   "source": [
    "net = transitions_to_net(transitions)"
   ]
  },
  {
   "cell_type": "markdown",
   "id": "7e96469b",
   "metadata": {},
   "source": [
    "# Find control kernels"
   ]
  },
  {
   "cell_type": "code",
   "execution_count": 22,
   "id": "7234621f",
   "metadata": {},
   "outputs": [],
   "source": [
    "from control_kernel_analysis import ck_analysis"
   ]
  },
  {
   "cell_type": "code",
   "execution_count": 23,
   "id": "7e4830a3",
   "metadata": {},
   "outputs": [
    {
     "name": "stdout",
     "output_type": "stream",
     "text": [
      "Finding attractors and control kernels...\n"
     ]
    },
    {
     "name": "stderr",
     "output_type": "stream",
     "text": [
      "/Users/bdaniel6/packages/Neet/neet/landscape.py:1118: VisibleDeprecationWarning: Creating an ndarray from ragged nested sequences (which is a list-or-tuple of lists-or-tuples-or ndarrays with different lengths or shapes) is deprecated. If you meant to do this, you must specify 'dtype=object' when creating the ndarray.\n",
      "  data.attractors = np.asarray(attractor_paths)\n"
     ]
    }
   ],
   "source": [
    "ck_data = ck_analysis(net)"
   ]
  },
  {
   "cell_type": "code",
   "execution_count": 24,
   "id": "bd85f848",
   "metadata": {},
   "outputs": [
    {
     "data": {
      "text/plain": [
       "array([[ 158],\n",
       "       [ 284],\n",
       "       [ 411],\n",
       "       [4024],\n",
       "       [3449],\n",
       "       [  42],\n",
       "       [2161],\n",
       "       [3300],\n",
       "       [2373],\n",
       "       [3917],\n",
       "       [1058],\n",
       "       [2857],\n",
       "       [2062],\n",
       "       [1194],\n",
       "       [2644],\n",
       "       [1537],\n",
       "       [3765],\n",
       "       [1934],\n",
       "       [2112],\n",
       "       [3882]])"
      ]
     },
     "execution_count": 24,
     "metadata": {},
     "output_type": "execute_result"
    }
   ],
   "source": [
    "ck_data['attractors']"
   ]
  },
  {
   "cell_type": "code",
   "execution_count": 25,
   "id": "88cc62c0",
   "metadata": {},
   "outputs": [
    {
     "data": {
      "text/plain": [
       "3.7"
      ]
     },
     "execution_count": 25,
     "metadata": {},
     "output_type": "execute_result"
    }
   ],
   "source": [
    "np.mean(ck_data['control_kernel_sizes'])"
   ]
  },
  {
   "cell_type": "code",
   "execution_count": 26,
   "id": "d59070d9",
   "metadata": {},
   "outputs": [
    {
     "data": {
      "text/plain": [
       "4.321928094887363"
      ]
     },
     "execution_count": 26,
     "metadata": {},
     "output_type": "execute_result"
    }
   ],
   "source": [
    "np.log2(20)"
   ]
  },
  {
   "cell_type": "markdown",
   "id": "1f90c8b2",
   "metadata": {},
   "source": [
    "# What happens if all basins but one have size one?"
   ]
  },
  {
   "cell_type": "markdown",
   "id": "9a483087",
   "metadata": {},
   "source": [
    "2023/5/30 BCD"
   ]
  },
  {
   "cell_type": "code",
   "execution_count": 8,
   "id": "2557e590",
   "metadata": {},
   "outputs": [],
   "source": [
    "from control_kernel_analysis import ck_analysis\n",
    "from TransitionNetwork import transitions_to_net"
   ]
  },
  {
   "cell_type": "code",
   "execution_count": 12,
   "id": "0863f178",
   "metadata": {},
   "outputs": [],
   "source": [
    "num_nodes = 12\n",
    "num_attractors = 20\n",
    "s = 2**num_nodes\n",
    "landscape_structure = [[1,1./s] for i in range(num_attractors-1)] + [[1,(s-num_attractors+1)/s]]\n",
    "edges = ata.generate_landscape(num_nodes,landscape_structure)\n",
    "transitions = [ e[1] for e in edges ]\n",
    "net = transitions_to_net(transitions)"
   ]
  },
  {
   "cell_type": "code",
   "execution_count": 13,
   "id": "013c17d1",
   "metadata": {},
   "outputs": [
    {
     "name": "stdout",
     "output_type": "stream",
     "text": [
      "Finding attractors and control kernels...\n"
     ]
    }
   ],
   "source": [
    "ck_data = ck_analysis(net)"
   ]
  },
  {
   "cell_type": "code",
   "execution_count": 15,
   "id": "c98ba702",
   "metadata": {},
   "outputs": [
    {
     "data": {
      "text/plain": [
       "[3, 5, 5, 5, 5, 5, 5, 4, 5, 5, 4, 5, 5, 5, 5, 5, 5, 4, 5, 6]"
      ]
     },
     "execution_count": 15,
     "metadata": {},
     "output_type": "execute_result"
    }
   ],
   "source": [
    "ck_data['control_kernel_sizes']"
   ]
  },
  {
   "cell_type": "code",
   "execution_count": 14,
   "id": "5f986ea5",
   "metadata": {},
   "outputs": [
    {
     "data": {
      "text/plain": [
       "4.8"
      ]
     },
     "execution_count": 14,
     "metadata": {},
     "output_type": "execute_result"
    }
   ],
   "source": [
    "np.mean(ck_data['control_kernel_sizes'])"
   ]
  },
  {
   "cell_type": "code",
   "execution_count": 17,
   "id": "9269bcf3",
   "metadata": {},
   "outputs": [
    {
     "data": {
      "text/plain": [
       "4.321928094887363"
      ]
     },
     "execution_count": 17,
     "metadata": {},
     "output_type": "execute_result"
    }
   ],
   "source": [
    "np.log2(num_attractors)"
   ]
  },
  {
   "cell_type": "code",
   "execution_count": null,
   "id": "ac7dfac7",
   "metadata": {},
   "outputs": [],
   "source": []
  }
 ],
 "metadata": {
  "kernelspec": {
   "display_name": "Python 3 (ipykernel)",
   "language": "python",
   "name": "python3"
  },
  "language_info": {
   "codemirror_mode": {
    "name": "ipython",
    "version": 3
   },
   "file_extension": ".py",
   "mimetype": "text/x-python",
   "name": "python",
   "nbconvert_exporter": "python",
   "pygments_lexer": "ipython3",
   "version": "3.9.16"
  }
 },
 "nbformat": 4,
 "nbformat_minor": 5
}
