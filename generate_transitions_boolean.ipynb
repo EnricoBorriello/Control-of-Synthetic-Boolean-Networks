{
 "cells": [
  {
   "cell_type": "code",
   "execution_count": 166,
   "metadata": {},
   "outputs": [],
   "source": [
    "import random\n",
    "#import numpy as np\n",
    "import networkx as nx"
   ]
  },
  {
   "cell_type": "code",
   "execution_count": 142,
   "metadata": {},
   "outputs": [],
   "source": [
    "def generate_transtions_v0 (num_nodes , num_attractors):\n",
    "    n = num_nodes\n",
    "    s = 2**n # number of states\n",
    "    r = num_attractors\n",
    "\n",
    "    num_att = 0\n",
    "    while num_att != r:\n",
    "        edgelist = [(i,random.randint(0, s-1)) for i in range(s)]\n",
    "        G = nx.from_edgelist(edgelist)\n",
    "        num_att = nx.number_connected_components(G)\n",
    "    \n",
    "    sizes = [len(B) for B in sorted(nx.connected_components(G), key=len, reverse=True)]\n",
    "\n",
    "    return sizes, edgelist"
   ]
  },
  {
   "cell_type": "code",
   "execution_count": 143,
   "metadata": {},
   "outputs": [],
   "source": [
    "basin_sizes, transitions = generate_transtions (num_nodes = 10 , num_attractors = 10)"
   ]
  },
  {
   "cell_type": "code",
   "execution_count": 144,
   "metadata": {},
   "outputs": [
    {
     "data": {
      "text/plain": [
       "[441, 339, 125, 57, 40, 11, 5, 2, 2, 2]"
      ]
     },
     "execution_count": 144,
     "metadata": {},
     "output_type": "execute_result"
    }
   ],
   "source": [
    "basin_sizes"
   ]
  },
  {
   "cell_type": "code",
   "execution_count": null,
   "metadata": {},
   "outputs": [],
   "source": []
  },
  {
   "cell_type": "code",
   "execution_count": null,
   "metadata": {},
   "outputs": [],
   "source": []
  },
  {
   "cell_type": "code",
   "execution_count": 145,
   "metadata": {},
   "outputs": [],
   "source": [
    "import random"
   ]
  },
  {
   "cell_type": "code",
   "execution_count": 153,
   "metadata": {},
   "outputs": [],
   "source": [
    "def transitions_between_layers(inner_layer,outher_layer):\n",
    "    \"\"\"\n",
    "    Generate transitions from the outher to the inner layer.\n",
    "    The inputs are lists of states in the two layers\n",
    "    \"\"\"\n",
    "    edges = []\n",
    "    for i in outher_layer:\n",
    "        random.shuffle(inner_layer)\n",
    "        j = inner_layer[0]\n",
    "        edges.append((i,j))\n",
    "    return edges"
   ]
  },
  {
   "cell_type": "code",
   "execution_count": 158,
   "metadata": {},
   "outputs": [],
   "source": [
    "def core_transitions(length):\n",
    "    \"\"\"\n",
    "    Given the length of the cycle,\n",
    "    generate its associated transitions.\n",
    "    These states take labels 0, 1, ..., length \n",
    "    \"\"\"\n",
    "    return [(i, (i+1)%length) for i in range(length)]"
   ]
  },
  {
   "cell_type": "code",
   "execution_count": 203,
   "metadata": {},
   "outputs": [],
   "source": [
    "def layer_distribution(length, num_states):\n",
    "    \"\"\"\n",
    "    Generate the distribution of the number of states,\n",
    "    [n1,n2,n3,...]\n",
    "    where n1 is the number of states in the innermost layer (i.e. the cycle),\n",
    "    n2 is the number of states in layer 2, etc.\n",
    "    \"\"\"\n",
    "    layer_widths = [length]\n",
    "    while sum(layer_widths) < num_states:\n",
    "        assigned_states = sum(layer_widths)\n",
    "        m = random.randint(1,num_states-assigned_states)\n",
    "        layer_widths.append(m)\n",
    "    return layer_widths"
   ]
  },
  {
   "cell_type": "code",
   "execution_count": null,
   "metadata": {},
   "outputs": [],
   "source": []
  },
  {
   "cell_type": "code",
   "execution_count": 240,
   "metadata": {},
   "outputs": [],
   "source": [
    "length = 3\n",
    "num_states = 100\n",
    "\n",
    "# generate the distribution of states\n",
    "dist = layer_distribution(length, num_states)\n",
    "\n",
    "edges = core_transitions(length)"
   ]
  },
  {
   "cell_type": "code",
   "execution_count": 241,
   "metadata": {},
   "outputs": [
    {
     "data": {
      "text/plain": [
       "[3, 28, 13, 4, 40, 2, 6, 2, 1, 1]"
      ]
     },
     "execution_count": 241,
     "metadata": {},
     "output_type": "execute_result"
    }
   ],
   "source": [
    "dist"
   ]
  },
  {
   "cell_type": "code",
   "execution_count": 242,
   "metadata": {},
   "outputs": [
    {
     "data": {
      "text/plain": [
       "[31, 32, 33, 34, 35, 36, 37, 38, 39, 40, 41, 42, 43]"
      ]
     },
     "execution_count": 242,
     "metadata": {},
     "output_type": "execute_result"
    }
   ],
   "source": [
    "layer_id = 2\n",
    "\n",
    "start = sum(dist[:layer_id])\n",
    "stop  = sum(dist[:layer_id]) + dist[layer_id]\n",
    "\n",
    "list(range(start, stop))"
   ]
  },
  {
   "cell_type": "code",
   "execution_count": 248,
   "metadata": {},
   "outputs": [
    {
     "data": {
      "text/plain": [
       "10"
      ]
     },
     "execution_count": 248,
     "metadata": {},
     "output_type": "execute_result"
    }
   ],
   "source": [
    "len(dist)"
   ]
  },
  {
   "cell_type": "code",
   "execution_count": 251,
   "metadata": {},
   "outputs": [
    {
     "data": {
      "text/plain": [
       "[(0, 1),\n",
       " (1, 2),\n",
       " (2, 0),\n",
       " (3, 0),\n",
       " (4, 2),\n",
       " (5, 1),\n",
       " (6, 0),\n",
       " (7, 2),\n",
       " (8, 0),\n",
       " (9, 2),\n",
       " (10, 1),\n",
       " (11, 1),\n",
       " (12, 2),\n",
       " (13, 2),\n",
       " (14, 2),\n",
       " (15, 2),\n",
       " (16, 2),\n",
       " (17, 0),\n",
       " (18, 0),\n",
       " (19, 0),\n",
       " (20, 0),\n",
       " (21, 1),\n",
       " (22, 0),\n",
       " (23, 0),\n",
       " (24, 0),\n",
       " (25, 1),\n",
       " (26, 2),\n",
       " (27, 2),\n",
       " (28, 2),\n",
       " (29, 0),\n",
       " (30, 0),\n",
       " (31, 0),\n",
       " (32, 14),\n",
       " (33, 27),\n",
       " (34, 13),\n",
       " (35, 9),\n",
       " (36, 14),\n",
       " (37, 23),\n",
       " (38, 22),\n",
       " (39, 23),\n",
       " (40, 18),\n",
       " (41, 5),\n",
       " (42, 9),\n",
       " (43, 29),\n",
       " (44, 21),\n",
       " (45, 15),\n",
       " (46, 10),\n",
       " (47, 5),\n",
       " (48, 20),\n",
       " (49, 22),\n",
       " (50, 27),\n",
       " (51, 9),\n",
       " (52, 9),\n",
       " (53, 20),\n",
       " (54, 19),\n",
       " (55, 12),\n",
       " (56, 13),\n",
       " (57, 4),\n",
       " (58, 25),\n",
       " (59, 11),\n",
       " (60, 23),\n",
       " (61, 18),\n",
       " (62, 15),\n",
       " (63, 5),\n",
       " (64, 10),\n",
       " (65, 20),\n",
       " (66, 31),\n",
       " (67, 31),\n",
       " (68, 5),\n",
       " (69, 21),\n",
       " (70, 4),\n",
       " (71, 25),\n",
       " (72, 10),\n",
       " (73, 9),\n",
       " (74, 24),\n",
       " (75, 5),\n",
       " (76, 14),\n",
       " (77, 4),\n",
       " (78, 11),\n",
       " (79, 10),\n",
       " (80, 6),\n",
       " (81, 24),\n",
       " (82, 30),\n",
       " (83, 30),\n",
       " (84, 8),\n",
       " (85, 17),\n",
       " (86, 25),\n",
       " (87, 12),\n",
       " (88, 15),\n",
       " (89, 27),\n",
       " (90, 16),\n",
       " (91, 8),\n",
       " (92, 10),\n",
       " (93, 18),\n",
       " (94, 52),\n",
       " (95, 76),\n",
       " (96, 53),\n",
       " (97, 79),\n",
       " (98, 96),\n",
       " (99, 97)]"
      ]
     },
     "execution_count": 251,
     "metadata": {},
     "output_type": "execute_result"
    }
   ],
   "source": [
    "# generate the distribution of states\n",
    "dist = layer_distribution(length, num_states)\n",
    "\n",
    "edges = core_transitions(length)\n",
    "\n",
    "for i in range(len(dist)-1):\n",
    "    \n",
    "    # outher_layer\n",
    "    layer_id = i+1\n",
    "    start = sum(dist[:layer_id])\n",
    "    stop  = sum(dist[:layer_id]) + dist[layer_id]\n",
    "    outher_layer = list(range(start, stop))\n",
    "    \n",
    "    # inner_layer\n",
    "    layer_id = i\n",
    "    start = sum(dist[:layer_id])\n",
    "    stop  = sum(dist[:layer_id]) + dist[layer_id]\n",
    "    inner_layer = list(range(start, stop))\n",
    "    \n",
    "    edges = edges + transitions_between_layers(inner_layer,outher_layer)\n",
    "    \n",
    "\n",
    "edges"
   ]
  },
  {
   "cell_type": "code",
   "execution_count": 255,
   "metadata": {},
   "outputs": [],
   "source": [
    "G = nx.from_edgelist(edges)\n",
    "pos = nx.spring_layout(G)"
   ]
  },
  {
   "cell_type": "code",
   "execution_count": 258,
   "metadata": {},
   "outputs": [
    {
     "data": {
      "image/png": "[encoded data removed]",
      "text/plain": [
       "<Figure size 432x288 with 1 Axes>"
      ]
     },
     "metadata": {},
     "output_type": "display_data"
    }
   ],
   "source": [
    "nx.draw_networkx(G, pos)"
   ]
  },
  {
   "cell_type": "code",
   "execution_count": 260,
   "metadata": {},
   "outputs": [],
   "source": [
    "G = nx.from_edgelist(edges)\n",
    "num_att = nx.number_connected_components(G)"
   ]
  },
  {
   "cell_type": "code",
   "execution_count": 261,
   "metadata": {},
   "outputs": [
    {
     "data": {
      "text/plain": [
       "1"
      ]
     },
     "execution_count": 261,
     "metadata": {},
     "output_type": "execute_result"
    }
   ],
   "source": [
    "num_att"
   ]
  },
  {
   "cell_type": "code",
   "execution_count": null,
   "metadata": {},
   "outputs": [],
   "source": [
    "# To do:\n",
    "# Now I need to separate the larger transition graph into connected components generated this way\n",
    "# and relabel everything accordingly"
   ]
  }
 ],
 "metadata": {
  "kernelspec": {
   "display_name": "Python 2",
   "language": "python",
   "name": "python2"
  },
  "language_info": {
   "codemirror_mode": {
    "name": "ipython",
    "version": 3
   },
   "file_extension": ".py",
   "mimetype": "text/x-python",
   "name": "python",
   "nbconvert_exporter": "python",
   "pygments_lexer": "ipython3",
   "version": "3.9.5"
  }
 },
 "nbformat": 4,
 "nbformat_minor": 2
}
