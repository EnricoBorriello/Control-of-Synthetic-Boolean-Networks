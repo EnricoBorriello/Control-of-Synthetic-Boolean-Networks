{
 "cells": [
  {
   "cell_type": "code",
   "execution_count": null,
   "metadata": {},
   "outputs": [],
   "source": [
    "# Slow method"
   ]
  },
  {
   "cell_type": "code",
   "execution_count": null,
   "metadata": {},
   "outputs": [],
   "source": [
    "import random\n",
    "import numpy as np\n",
    "import networkx as nx"
   ]
  },
  {
   "cell_type": "code",
   "execution_count": null,
   "metadata": {},
   "outputs": [],
   "source": [
    "def generate_transtions_v0 (num_nodes , num_attractors):\n",
    "    n = num_nodes\n",
    "    s = 2**n # number of states\n",
    "    r = num_attractors\n",
    "\n",
    "    num_att = 0\n",
    "    while num_att != r:\n",
    "        edgelist = [(i,random.randint(0, s-1)) for i in range(s)]\n",
    "        G = nx.from_edgelist(edgelist)\n",
    "        num_att = nx.number_connected_components(G)\n",
    "    \n",
    "    sizes = [len(B) for B in sorted(nx.connected_components(G), key=len, reverse=True)]\n",
    "\n",
    "    return sizes, edgelist"
   ]
  },
  {
   "cell_type": "code",
   "execution_count": null,
   "metadata": {},
   "outputs": [],
   "source": [
    "basin_sizes, transitions = generate_transtions_v0 (num_nodes = 10 , num_attractors = 5)\n",
    "basin_sizes"
   ]
  },
  {
   "cell_type": "code",
   "execution_count": null,
   "metadata": {},
   "outputs": [],
   "source": [
    "\n",
    "# Faster method"
   ]
  },
  {
   "cell_type": "code",
   "execution_count": null,
   "metadata": {},
   "outputs": [],
   "source": [
    "import random\n",
    "import networkx as nx"
   ]
  },
  {
   "cell_type": "code",
   "execution_count": null,
   "metadata": {},
   "outputs": [],
   "source": [
    "def transitions_between_layers(inner_layer,outher_layer):\n",
    "    \"\"\"\n",
    "    Generate transitions from the outher to the inner layer.\n",
    "    The inputs are lists of states in the two layers\n",
    "    \"\"\"\n",
    "    edges = []\n",
    "    for i in outher_layer:\n",
    "        random.shuffle(inner_layer)\n",
    "        j = inner_layer[0]\n",
    "        edges.append((i,j))\n",
    "    return edges"
   ]
  },
  {
   "cell_type": "code",
   "execution_count": null,
   "metadata": {},
   "outputs": [],
   "source": [
    "def core_transitions(length):\n",
    "    \"\"\"\n",
    "    Given the length of the cycle,\n",
    "    generate its associated transitions.\n",
    "    These states take labels 0, 1, ..., length \n",
    "    \"\"\"\n",
    "    return [(i, (i+1)%length) for i in range(length)]"
   ]
  },
  {
   "cell_type": "code",
   "execution_count": null,
   "metadata": {},
   "outputs": [],
   "source": [
    "def layer_distribution(length, num_states):\n",
    "    \"\"\"\n",
    "    Generate the distribution of the number of states,\n",
    "    [n1,n2,n3,...]\n",
    "    where n1 is the number of states in the innermost layer (i.e. the cycle),\n",
    "    n2 is the number of states in layer 2, etc.\n",
    "    \"\"\"\n",
    "    layer_widths = [length]\n",
    "    while sum(layer_widths) < num_states:\n",
    "        assigned_states = sum(layer_widths)\n",
    "        m = random.randint(1,num_states-assigned_states)\n",
    "        layer_widths.append(m)\n",
    "    return layer_widths"
   ]
  },
  {
   "cell_type": "code",
   "execution_count": null,
   "metadata": {},
   "outputs": [],
   "source": [
    "# generate the distribution of states\n",
    "\n",
    "def transitions(length, num_states):\n",
    "    \"\"\"\n",
    "    Generate the list of transitions for a single connected component.\n",
    "    The states are labeled 0, ..., num_states.\n",
    "    \"\"\"\n",
    "    \n",
    "    dist = layer_distribution(length, num_states)\n",
    "    edges = core_transitions(length)\n",
    "\n",
    "    for i in range(len(dist)-1):\n",
    "    \n",
    "        # outher_layer\n",
    "        layer_id = i+1\n",
    "        start = sum(dist[:layer_id])\n",
    "        stop  = sum(dist[:layer_id]) + dist[layer_id]\n",
    "        outher_layer = list(range(start, stop))\n",
    "    \n",
    "        # inner_layer\n",
    "        layer_id = i\n",
    "        start = sum(dist[:layer_id])\n",
    "        stop  = sum(dist[:layer_id]) + dist[layer_id]\n",
    "        inner_layer = list(range(start, stop))\n",
    "    \n",
    "        edges = edges + transitions_between_layers(inner_layer,outher_layer)\n",
    "    \n",
    "    return edges"
   ]
  },
  {
   "cell_type": "code",
   "execution_count": null,
   "metadata": {},
   "outputs": [],
   "source": [
    "edges = transitions(length = 3, num_states = 100)\n",
    "edges[:10]"
   ]
  },
  {
   "cell_type": "code",
   "execution_count": null,
   "metadata": {},
   "outputs": [],
   "source": [
    "G = nx.from_edgelist(edges)\n",
    "pos = nx.spring_layout(G)\n",
    "nx.draw_networkx(G, pos)"
   ]
  },
  {
   "cell_type": "code",
   "execution_count": null,
   "metadata": {},
   "outputs": [],
   "source": [
    "G = nx.from_edgelist(edges)\n",
    "num_att = nx.number_connected_components(G)\n",
    "num_att"
   ]
  },
  {
   "cell_type": "code",
   "execution_count": null,
   "metadata": {},
   "outputs": [],
   "source": [
    "# To do:\n",
    "# Now I need to separate the larger transition graph into connected components generated this way\n",
    "\n",
    "# I can either generate all transitions, or just select certain inputs, \n",
    "# evolve those, then randomly assign the global state labels"
   ]
  },
  {
   "cell_type": "code",
   "execution_count": null,
   "metadata": {},
   "outputs": [],
   "source": [
    "def join_transitions(transitions1,transitions2):\n",
    "    \"\"\"\n",
    "    Joins two lists of transitions after shifting the labels in the second list\n",
    "    \"\"\"\n",
    "    s1 = len(transitions1)\n",
    "    s2 = len(transitions2)\n",
    "    #shift the labels in transitions2\n",
    "    p = list(range(s1,s1+s2))\n",
    "    new_transitions2 = [(p[i], p[j]) for (i, j) in transitions2]\n",
    "    return transitions1 + new_transitions2"
   ]
  },
  {
   "cell_type": "code",
   "execution_count": null,
   "metadata": {},
   "outputs": [],
   "source": [
    "def labels_permutation (transitions):\n",
    "    \"\"\"\n",
    "    randomly reassign state labels\n",
    "    \"\"\"\n",
    "    # Generate a random permutation of the labels\n",
    "    s = len(transitions)\n",
    "    p = list(range(s))\n",
    "    random.shuffle(p)\n",
    "    # Create a new list of edges with the updated labels\n",
    "    new_transitions = [(p[i], p[j]) for (i, j) in transitions]\n",
    "    sorted_transitions = sorted(new_transitions, key=lambda x: x[0])\n",
    "    return sorted_transitions"
   ]
  },
  {
   "cell_type": "code",
   "execution_count": null,
   "metadata": {},
   "outputs": [],
   "source": [
    "s1 = 2**8\n",
    "s2 = 2**4\n",
    "s3 = 2**4\n",
    "t1 = transitions(4, s1)\n",
    "t2 = transitions(2, s2)\n",
    "t3 = transitions(1, s3)\n",
    "#print(t1)\n",
    "#print(t2)\n",
    "s1+s2+s3"
   ]
  },
  {
   "cell_type": "code",
   "execution_count": null,
   "metadata": {},
   "outputs": [],
   "source": [
    "t = join_transitions( join_transitions(t1,t2) , t3)\n",
    "edges = labels_permutation (t)"
   ]
  },
  {
   "cell_type": "code",
   "execution_count": null,
   "metadata": {},
   "outputs": [],
   "source": [
    "G = nx.from_edgelist(edges)\n",
    "nx.draw_networkx(G)"
   ]
  },
  {
   "cell_type": "code",
   "execution_count": null,
   "metadata": {},
   "outputs": [],
   "source": [
    "def attractor_landscape():\n",
    "    \"\"\"\n",
    "    \"\"\"\n",
    "    ...\n",
    "    return ..."
   ]
  },
  {
   "cell_type": "code",
   "execution_count": null,
   "metadata": {},
   "outputs": [],
   "source": [
    "n = 3\n",
    "labels = list(range(2**n))\n",
    "\n",
    "\n",
    "num_nodes = 10\n",
    "num_states = 2**num_nodes\n",
    "\n",
    "landscape = [[3,1],[1,2],[1,5]]\n",
    "# this describes a transition graph with 3 attractors: a cycle with length 3, and two fixed points.\n",
    "# the second element in each entry is the relative size of the basin. \n",
    "# In this case the basin sizes are in ratios 1:2:5\n",
    "\n",
    "sum(np.array(landscape)[:,1])"
   ]
  },
  {
   "cell_type": "code",
   "execution_count": null,
   "metadata": {},
   "outputs": [],
   "source": [
    "n = 16\n",
    "s = 2**n\n",
    "s"
   ]
  },
  {
   "cell_type": "code",
   "execution_count": null,
   "metadata": {},
   "outputs": [],
   "source": [
    "b1 = .25 # relative size of basin 1\n",
    "b2 = .50 # relative size of basin 2\n",
    "b3 = .05 # relative size of basin 3\n",
    "b4 = .20 # relative size of basin 3\n",
    "\n",
    "b1+b2+b3+b4"
   ]
  },
  {
   "cell_type": "code",
   "execution_count": null,
   "metadata": {},
   "outputs": [],
   "source": [
    "s1 = int(b1*s)\n",
    "s2 = int(b2*s)\n",
    "s3 = int(b3*s)\n",
    "\n",
    "s4 = s-s1-s2-s3"
   ]
  },
  {
   "cell_type": "code",
   "execution_count": null,
   "metadata": {},
   "outputs": [],
   "source": [
    "print(s1)\n",
    "print(s2)\n",
    "print(s3)\n",
    "print(s4)"
   ]
  },
  {
   "cell_type": "code",
   "execution_count": null,
   "metadata": {},
   "outputs": [],
   "source": [
    "s-(s1+s2+s3+s4)"
   ]
  },
  {
   "cell_type": "code",
   "execution_count": null,
   "metadata": {},
   "outputs": [],
   "source": [
    "length1 = 4\n",
    "length2 = 1\n",
    "length3 = 1\n",
    "length4 = 5\n",
    "\n",
    "\n",
    "t1 = transitions(length1, s1)\n",
    "t2 = transitions(length2, s2)\n",
    "t3 = transitions(length3, s3)\n",
    "t4 = transitions(length4, s4)\n"
   ]
  },
  {
   "cell_type": "code",
   "execution_count": null,
   "metadata": {},
   "outputs": [],
   "source": [
    "t = join_transitions(join_transitions( join_transitions(t1,t2) , t3) , t4)\n",
    "edges = labels_permutation (t)"
   ]
  },
  {
   "cell_type": "code",
   "execution_count": null,
   "metadata": {},
   "outputs": [],
   "source": [
    "edges"
   ]
  },
  {
   "cell_type": "code",
   "execution_count": null,
   "metadata": {},
   "outputs": [],
   "source": [
    "# this method is too slow for networks of reasonable size.\n",
    "# write a version with sampling"
   ]
  }
 ],
 "metadata": {
  "kernelspec": {
   "display_name": "Python 2",
   "language": "python",
   "name": "python2"
  },
  "language_info": {
   "codemirror_mode": {
    "name": "ipython",
    "version": 3
   },
   "file_extension": ".py",
   "mimetype": "text/x-python",
   "name": "python",
   "nbconvert_exporter": "python",
   "pygments_lexer": "ipython3",
   "version": "3.9.5"
  }
 },
 "nbformat": 4,
 "nbformat_minor": 2
}
